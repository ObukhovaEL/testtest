{
 "cells": [
  {
   "cell_type": "code",
   "execution_count": 1,
   "metadata": {
    "collapsed": true
   },
   "outputs": [],
   "source": [
    "import numpy as np\n",
    "import matplotlib.pyplot as plt\n",
    "import scipy.stats as ss\n",
    "from scipy.fftpack import fft\n",
    "import scipy.integrate as integrate\n",
    "import scipy.special as special\n",
    "import math"
   ]
  },
  {
   "cell_type": "code",
   "execution_count": 11,
   "metadata": {
    "collapsed": false
   },
   "outputs": [
    {
     "ename": "IndentationError",
     "evalue": "unindent does not match any outer indentation level (<ipython-input-11-2d46c0c5c097>, line 67)",
     "output_type": "error",
     "traceback": [
      "\u001b[0;36m  File \u001b[0;32m\"<ipython-input-11-2d46c0c5c097>\"\u001b[0;36m, line \u001b[0;32m67\u001b[0m\n\u001b[0;31m    def P(lmbda, vbar, eta, rho, v0, intr, tau, S0, strike, j):\u001b[0m\n\u001b[0m                                                               ^\u001b[0m\n\u001b[0;31mIndentationError\u001b[0m\u001b[0;31m:\u001b[0m unindent does not match any outer indentation level\n"
     ]
    }
   ],
   "source": [
    "ONEYEAR = 250\n",
    "\n",
    "r=0.05\n",
    "spot = 100\n",
    "lmbda=6.21\n",
    "vbar=0.019\n",
    "eta=0.61\n",
    "rho=-0.7\n",
    "v0=0.010201\n",
    "intr=0.0319\n",
    "tau=1.0\n",
    "S0=100\n",
    "strike=100\n",
    "N=30\n",
    "min_tau = 1/ONEYEAR\n",
    "\n",
    "\n",
    "def Moneyness (spot, strike, tau, intr): \n",
    "    K*exp(-intr*tau)/S\n",
    "\n",
    "def BlackScholesCall (S0, strike, tau, intr, sigma, EPS=0.01):\n",
    "    d1 =  (log(S0/strike) + (intr +0.5*sigma^2)*tau)/(sigma*sqrt(tau))\n",
    "    d2 = d1 - sigma*sqrt(tau)\n",
    "    \n",
    "    if (tau < EPS):\n",
    "        return(max(S0-strike,0))\n",
    "    else:\n",
    "        return(S0*pnorm(d1) - strike*exp(-intr*(tau))*pnorm(d2))\n",
    "    \n",
    "\n",
    "def ImpliedVolCall (S0, strike, tau, intr, price):\n",
    "    f = ImpliedVolCall.BlackScholesCall(S0,strike,tau,intr,x) - price\n",
    "    if (f(-1) * f(1) > 0):\n",
    "        return(NA)\n",
    "    '''uniroot(f,c(-1,1))$root''' #Finding the uniroot function in Python\n",
    "    \n",
    "#def HestonCallClosedForm (lmbda, vbar, eta, rho, v0, intr, tau, S0, strike):\n",
    "def PIntegrand(u, lmbda, vbar, eta, rho, v0, intr, tau, S0, strike, j): \n",
    "        F = S0*exp(intr/tau)\n",
    "        x = log(F/strike)\n",
    "        a = lmbda * vbar\n",
    "            \n",
    "        if(j == 1):\n",
    "            b = lmbda - rho* eta\n",
    "            alpha =  (u^2)/2 - (u/2 * one_i) + (one_i * u)      #Changed 1i to one_i\n",
    "            beta = lmbda - (rho * eta) - (rho * eta * one_i * u)\n",
    "        else:\n",
    "                b = lmbda\n",
    "                alpha = (u^2)/2 - (u/2 * one_i)\n",
    "                beta = lmbda - (rho * eta * one_i * u)\n",
    "            \n",
    "        gamma = a^2/2\n",
    "        d = sqrt(beta^2 - 4*alpha*gamma)\n",
    "        rplus = (beta + d)/(2*gamma)\n",
    "        rminus = (beta - d)/(2*gamma)\n",
    "        g = rminus / rplus\n",
    "            \n",
    "        D = rminus * (1 - exp(-d*tau))/(1-g*exp(-d*tau))\n",
    "        C = lmbda * (rminus * tau - 2/(eta^2) * log( (1-g*exp(-d*tau))/(1-g) ) )\n",
    "        \n",
    "        top = p(C*vbar + D*v0 + one_i*u*x)\n",
    "        bottom = (i * u)\n",
    "        z=(top/bottom)\n",
    "        z.real\n",
    "        \n",
    "        \n",
    "    def P(lmbda, vbar, eta, rho, v0, intr, tau, S0, strike, j):\n",
    "        value = integrate(PIntegrand, lower = 0, upper = 9999999999999,\n",
    "                          subdivisions=1000,\n",
    "                         )\n",
    "                        \n",
    "        ans =  0.5 + 1/pi * value\n",
    "        return (ans)\n",
    "    \n",
    "\n",
    "A = S0*P(lmbda, vbar, eta, rho, v0, r, tau, S0, strike, 1)\n",
    "B = strike*exp(-r*tau)*P(lmbda, vbar, eta, rho, v0, intr, tau, S0, strike, 0)\n",
    "    \n",
    "return (A-B)\n",
    "\n",
    "\n",
    "\n",
    "print (\"hmm\"),PIntegrand\n",
    "\n",
    "\n"
   ]
  },
  {
   "cell_type": "code",
   "execution_count": null,
   "metadata": {
    "collapsed": true
   },
   "outputs": [],
   "source": []
  }
 ],
 "metadata": {
  "kernelspec": {
   "display_name": "Python 3",
   "language": "python",
   "name": "python3"
  },
  "language_info": {
   "codemirror_mode": {
    "name": "ipython",
    "version": 3
   },
   "file_extension": ".py",
   "mimetype": "text/x-python",
   "name": "python",
   "nbconvert_exporter": "python",
   "pygments_lexer": "ipython3",
   "version": "3.6.0"
  }
 },
 "nbformat": 4,
 "nbformat_minor": 2
}
