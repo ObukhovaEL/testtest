{
 "cells": [
  {
   "cell_type": "code",
   "execution_count": null,
   "metadata": {
    "collapsed": true
   },
   "outputs": [],
   "source": [
    "import numpy as np\n",
    "import matplotlib.pyplot as plt\n",
    "import scipy.stats as ss\n",
    "from scipy.fftpack import fft"
   ]
  },
  {
   "cell_type": "code",
   "execution_count": 1,
   "metadata": {
    "collapsed": false
   },
   "outputs": [
    {
     "ename": "SyntaxError",
     "evalue": "invalid syntax (<ipython-input-1-b53919fd345c>, line 7)",
     "output_type": "error",
     "traceback": [
      "\u001b[0;36m  File \u001b[0;32m\"<ipython-input-1-b53919fd345c>\"\u001b[0;36m, line \u001b[0;32m7\u001b[0m\n\u001b[0;31m    def price(self, K, S, CP=1)\u001b[0m\n\u001b[0m                                  ^\u001b[0m\n\u001b[0;31mSyntaxError\u001b[0m\u001b[0;31m:\u001b[0m invalid syntax\n"
     ]
    }
   ],
   "source": [
    "class Heston_Option:\n",
    "    spot, strike, var, vol, texp, intr, divr, rho, kappa, theta, eta #= None, None, None, None, None, None, None, None, None, None\n",
    "    \n",
    "    def __init__(self, , T, r=0.0, q=0.0):\n",
    "        self.V, self.T, self.r, self.q = V, T, r, q\n",
    "        \n",
    "    def price(self, K, S, CP=1)   \n",
    "    "
   ]
  },
  {
   "cell_type": "code",
   "execution_count": null,
   "metadata": {
    "collapsed": true
   },
   "outputs": [],
   "source": [
    "#TEST FFT\n",
    "class FFTEngine(object):\n",
    "    def __init__(self, N, d_u, alpha, spline_order):\n",
    "        self.N = N\n",
    "        self.d_u = d_u\n",
    "        self.alpha = alpha\n",
    "        self.spline_order = spline_order\n",
    "\n",
    "    def __call__(self, strike, t, r, q, S0, chf_ln_st):\n",
    "        sim_strikes, call_prices = carr_madan_fft_call_pricer(self.N, self.d_u, self.alpha, r, t, S0, q, chf_ln_st.set_type('chf'))\n",
    "        ffn_prices = spline_fitting(sim_strikes, call_prices, self.spline_order)(strike)\n",
    "return ffn_prices"
   ]
  },
  {
   "cell_type": "code",
   "execution_count": null,
   "metadata": {
    "collapsed": true
   },
   "outputs": [],
   "source": [
    "#TEST FFT 2\n",
    "import numpy as np\n",
    "from scipy.fftpack import fft, ifft\n",
    "\n",
    "\n",
    "def carr_madan_fft_call_pricer(N, d_u, alpha, r, t, S0, q, chf_ln_st):\n",
    "    d_k = 2 * np.pi / (N * d_u)\n",
    "    beta = np.log(S0) - d_k * N / 2\n",
    "    u_arr = np.arange(N) * d_u\n",
    "    k_arr = beta + np.arange(N) * d_k\n",
    "    delta_arr = np.zeros(N)\n",
    "    delta_arr[0] = 1\n",
    "    w_arr = d_u / 3 * (3 + (-1) ** (np.arange(N) + 1) - delta_arr)\n",
    "    call_chf = (np.exp(-r * t) / ((alpha + 1j * u_arr) * (alpha + 1j * u_arr + 1))) * chf_ln_st(\n",
    "        u_arr - (alpha + 1) * 1j,\n",
    "        t, r, q=q, S0=S0)\n",
    "    x_arr = np.exp(-1j * beta * u_arr) * call_chf * w_arr\n",
    "    fft_prices = (fft(x_arr))\n",
    "    call_prices = (np.exp(-alpha * k_arr) / np.pi) * fft_prices.real\n",
    "    return np.exp(k_arr), call_prices\n"
   ]
  }
 ],
 "metadata": {
  "kernelspec": {
   "display_name": "Python 3",
   "language": "python",
   "name": "python3"
  },
  "language_info": {
   "codemirror_mode": {
    "name": "ipython",
    "version": 3
   },
   "file_extension": ".py",
   "mimetype": "text/x-python",
   "name": "python",
   "nbconvert_exporter": "python",
   "pygments_lexer": "ipython3",
   "version": "3.6.0"
  }
 },
 "nbformat": 4,
 "nbformat_minor": 2
}
