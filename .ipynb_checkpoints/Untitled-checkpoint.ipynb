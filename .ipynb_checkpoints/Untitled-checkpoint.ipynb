{
 "cells": [
  {
   "cell_type": "code",
   "execution_count": 1,
   "metadata": {
    "collapsed": false
   },
   "outputs": [],
   "source": [
    "def HestonCallClosedForm (lmbda, vbar, eta, rho, v0, intr, tau, S0, strike):\n",
    "    PIntegrand = function(u, lmbda, vbar, eta, rho, v0, intr, tau, S0, strike, j) \n",
    "    F = S0*exp(intr/tau)\n",
    "    x = log(F/strike)\n",
    "    a = lmbda * vbar\n",
    "            \n",
    "    if(j == 1):\n",
    "        b = lmbda - rho* eta\n",
    "        alpha =  (u^2)/2 - (u/2 * one_i) + (one_i * u)      #Changed 1i to one_i\n",
    "        beta = lmbda - (rho * eta) - (rho * eta * one_i * u)\n",
    "    else:\n",
    "        b = lmbda\n",
    "        alpha = (u^2)/2 - (u/2 * one_i)\n",
    "        beta = lmbda - (rho * eta * one_i * u)\n",
    "            \n",
    "            \n",
    "        gamma = a^2/2\n",
    "        d = sqrt(beta^2 - 4*alpha*gamma)\n",
    "        rplus = (beta + d)/(2*gamma)\n",
    "        rminus = (beta - d)/(2*gamma)\n",
    "        g = rminus / rplus\n",
    "            \n",
    "        D = rminus * (1 - exp(-d*tau))/(1-g*exp(-d*tau))\n",
    "        C = lmbda * (rminus * tau - 2/(eta^2) * log( (1-g*exp(-d*tau))/(1-g) ) )\n",
    "        \n",
    "        top = p(C*vbar + D*v0 + one_i*u*x)\n",
    "        bottom = (i * u)\n",
    "        Re(top/bottom)\n",
    "\n",
    "\n",
    "def P(lmbda, vbar, eta, rho, v0, intr, tau, S0, strike, j):\n",
    "    value = integrate(PIntegrand, lower = 0, upper = Inf,\n",
    "                      subdivisions=1000,\n",
    "                     )\n",
    "                       \n",
    "    ans =  0.5 + 1/pi * value\n",
    "    return (ans)\n",
    "    \n",
    "\n",
    "    A = S0*P(lmbda, vbar, eta, rho, v0, r, tau, S0, strike, 1)\n",
    "    B = strike*exp(-r*tau)*P(lmbda, vbar, eta, rho, v0, intr, tau, S0, strike, 0)\n",
    "    A-B"
   ]
  },
  {
   "cell_type": "code",
   "execution_count": null,
   "metadata": {
    "collapsed": true
   },
   "outputs": [],
   "source": []
  }
 ],
 "metadata": {
  "kernelspec": {
   "display_name": "Python 3",
   "language": "python",
   "name": "python3"
  },
  "language_info": {
   "codemirror_mode": {
    "name": "ipython",
    "version": 3
   },
   "file_extension": ".py",
   "mimetype": "text/x-python",
   "name": "python",
   "nbconvert_exporter": "python",
   "pygments_lexer": "ipython3",
   "version": "3.6.0"
  }
 },
 "nbformat": 4,
 "nbformat_minor": 2
}
